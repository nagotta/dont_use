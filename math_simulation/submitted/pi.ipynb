{
 "cells": [
  {
   "cell_type": "markdown",
   "metadata": {},
   "source": [
    "# 数理シミュレーション第5回課題\n",
    "\n",
    "## 課題\n",
    "\n",
    "1. 以下の2つ（または3つ）の方法で、乱数の組を100組、500組、1000組発生させ、\n",
    "モンテカルロ法によるπの値を計算してください。各手法の計算結果の精度に関して考察し てください。\n",
    "① 線形合同法（𝑎 = 45, 𝑐 = 1, 𝑀 = 256）\n",
    "② メルセンヌツイスタ（Pythonのrandom.random()）\n",
    "③ 線形合同法のよいパラメータ[任意]"
   ]
  },
  {
   "cell_type": "code",
   "execution_count": 169,
   "metadata": {},
   "outputs": [
    {
     "name": "stdout",
     "output_type": "stream",
     "text": [
      "2.8\n",
      "3.168\n",
      "3.184\n",
      "3.1864\n",
      "3.1874\n",
      "3.187468\n"
     ]
    }
   ],
   "source": [
    "# 課題1-1\n",
    "# N=100,1000,5000回で実施\n",
    "num_list = [100, 500, 1000, 10000, 100000, 1000000]\n",
    "a, c, M = 45, 1, 256\n",
    "\n",
    "for num in num_list:\n",
    "    in_area = 0 # 円の内部に発生した点の数\n",
    "    x, y = 1, 1\n",
    "    for _ in range(num):\n",
    "        y = (a*x + c) % (M)\n",
    "        # ランダム点が円の内部かどうかを判定\n",
    "        if (x**2 + y**2)**(1/2) <= M:\n",
    "            in_area += 1\n",
    "    # 4半円のため4倍して円周率を出力\n",
    "        x = y\n",
    "    print(4.0 * in_area / num)"
   ]
  },
  {
   "cell_type": "code",
   "execution_count": 170,
   "metadata": {},
   "outputs": [
    {
     "name": "stdout",
     "output_type": "stream",
     "text": [
      "3.4\n",
      "3.064\n",
      "3.048\n",
      "3.1516\n",
      "3.14884\n",
      "3.143532\n"
     ]
    }
   ],
   "source": [
    "# 課題1-2\n",
    "import random\n",
    "# N=100,500,1000回で実施\n",
    "num_list = [100, 500, 1000, 10000, 100000, 1000000]\n",
    "in_area = 0 # 円の内部に発生した点の数\n",
    "for num in num_list:\n",
    "    in_area = 0 # 円の内部に発生した点の数\n",
    "    for _ in range(num):\n",
    "        x = random.random() # [0, 1]の乱数発生\n",
    "        y = random.random() # [0, 1]の乱数発生\n",
    "        # ランダム点が円の内部かどうかを判定\n",
    "        if x**2 + y**2 <= 1:\n",
    "            in_area += 1\n",
    "    # 4半円のため4倍して円周率を出力\n",
    "    print(4.0 * in_area / num)"
   ]
  },
  {
   "cell_type": "code",
   "execution_count": 173,
   "metadata": {},
   "outputs": [
    {
     "name": "stdout",
     "output_type": "stream",
     "text": [
      "3.12\n",
      "3.144\n",
      "3.076\n",
      "3.1664\n",
      "3.14592\n",
      "3.141192\n"
     ]
    }
   ],
   "source": [
    "# 課題1-3\n",
    "# N=100,500,1000回で実施\n",
    "num_list = [100, 500, 1000, 10000, 100000, 1000000]\n",
    "M, a, c = 2**32, 1664525, 1013904223\n",
    "\n",
    "for num in num_list:\n",
    "    in_area = 0 # 円の内部に発生した点の数\n",
    "    x, y = 1, 1\n",
    "    for _ in range(num):\n",
    "        y = (a*x + c) % (M)\n",
    "        # ランダム点が円の内部かどうかを判定\n",
    "        if (x**2 + y**2)**(1/2) <= M:\n",
    "            in_area += 1\n",
    "    # 4半円のため4倍して円周率を出力\n",
    "        x = y\n",
    "    print(4.0 * in_area / num)"
   ]
  },
  {
   "cell_type": "markdown",
   "metadata": {},
   "source": [
    "2. 以下の多重積分の値をモンテカルロ法を用いて求めてください。(積分を手計算で解いた結果と比較してください)"
   ]
  },
  {
   "cell_type": "code",
   "execution_count": 172,
   "metadata": {},
   "outputs": [
    {
     "name": "stdout",
     "output_type": "stream",
     "text": [
      "100回:0.09416188932193487\n",
      "1000回:0.09952330713453285\n",
      "5000回:0.10114206560943288\n",
      "10000回:0.10138866533082194\n",
      "50000回:0.10064560195187827\n",
      "100000回:0.10117115239045046\n"
     ]
    }
   ],
   "source": [
    "# 課題2\n",
    "import math\n",
    "import random\n",
    "num_list = [100, 1000, 5000, 10000, 50000, 100000]\n",
    "f = 0\n",
    "\n",
    "x = [0.0, 0.0, 0.0, 0.0, 0.0]\n",
    "for num in num_list:\n",
    "    f = 0\n",
    "    for _ in range(num):\n",
    "        for i in range(5):\n",
    "            x[i] = random.random()\n",
    "        f += math.exp(-(x[0]+x[1]+x[2]+x[3]+x[4]))     \n",
    "    \n",
    "    print(f\"{num}回:{f / num}\")"
   ]
  },
  {
   "cell_type": "code",
   "execution_count": 174,
   "metadata": {},
   "outputs": [
    {
     "name": "stdout",
     "output_type": "stream",
     "text": [
      "手計算の結果:0.10092519027388425\n"
     ]
    }
   ],
   "source": [
    "e = 2.71828182845\n",
    "S = -e**(-5) + 5*e**(-4) - 10*e**(-3) + 10*e**(-2) - 5*e**(-1) + 1\n",
    "print(f\"手計算の結果:{S}\")"
   ]
  }
 ],
 "metadata": {
  "kernelspec": {
   "display_name": "venv",
   "language": "python",
   "name": "python3"
  },
  "language_info": {
   "codemirror_mode": {
    "name": "ipython",
    "version": 3
   },
   "file_extension": ".py",
   "mimetype": "text/x-python",
   "name": "python",
   "nbconvert_exporter": "python",
   "pygments_lexer": "ipython3",
   "version": "3.11.4"
  }
 },
 "nbformat": 4,
 "nbformat_minor": 2
}
