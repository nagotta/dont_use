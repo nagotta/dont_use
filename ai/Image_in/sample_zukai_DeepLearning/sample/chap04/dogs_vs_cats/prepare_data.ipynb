{
 "cells": [
  {
   "cell_type": "code",
   "execution_count": 6,
   "metadata": {},
   "outputs": [],
   "source": [
    "import os\n",
    "\"\"\"\n",
    "train.zipを解凍し、内部のtrainをNotebookと同じフォルダーにコピーし、\n",
    "訓練データとテストデータに振り分ける以下のコードを実行\n",
    "\"\"\"\n",
    "num_train = 1000                    # 訓練データに使用するdog,catの各枚数\n",
    "num_validation = 400                # テストデータに使用するdog,catの各枚数\n",
    "\n",
    "source_dir = \"./train\"              # 元画像のtrainフォルダーの場所\n",
    "train_dir = \"./data/train\"          # 訓練データの保存先\n",
    "valid_dir = \"./data/validation\"     # テストデータの保存先\n",
    "\n",
    "os.makedirs(\"%s/dogs\" % train_dir)  # train_dir内にdogsフォルダーを作成\n",
    "os.makedirs(\"%s/cats\" % train_dir)  # train_dir内にcatsフォルダーを作成\n",
    "os.makedirs(\"%s/dogs\" % valid_dir)  # valid_dir内にdogsフォルダーを作成\n",
    "os.makedirs(\"%s/cats\" % valid_dir)  # valid_dir内にcatsフォルダーを作成\n",
    "\n",
    "# 訓練データの用意 #\n",
    "# cat,dogの画像1000枚をtrain_dirのdogs,catsに移動\n",
    "for i in range(num_train):\n",
    "    #「cat.1.jpg～cat.1000.jpg」を\n",
    "    #「cat.0001.jpg～cat.1000.jpg」にリネームして移動\n",
    "    os.rename(\"%s/cat.%d.jpg\" % (source_dir, i + 1),\n",
    "              \"%s/cats/cat%04d.jpg\" % (train_dir, i + 1))\n",
    "    #「dog.1.jpg～dog.1000.jpg」を\n",
    "    #「dog.0001.jpg～dog.2000.jpg」にリネームして移動\n",
    "    os.rename(\"%s/dog.%d.jpg\" % (source_dir, i + 1),\n",
    "              \"%s/dogs/dog%04d.jpg\" % (train_dir, i + 1))\n",
    "\n",
    "# テストデータの用意 #\n",
    "# dog,catの画像の1001枚目以降の400枚をvalid_dirのdogs,catsに移動\n",
    "for i in range(num_validation):\n",
    "    #「cat.1001.jpg～cat.1400.jpg」を\n",
    "    #「cat.0001.jpg～cat.0400.jpg」にリネームして移動\n",
    "    os.rename(\"%s/cat.%d.jpg\" % (source_dir, num_train + i + 1),\n",
    "              \"%s/cats/cat%04d.jpg\" % (valid_dir, i + 1))\n",
    "    #「dog.1001.jpg～dog.1400.jpg」を\n",
    "    #「dog.0001.jpg～dog.0400.jpg」にリネームして移動\n",
    "    os.rename(\"%s/dog.%d.jpg\" % (source_dir, num_train + i + 1),\n",
    "              \"%s/dogs/dog%04d.jpg\" % (valid_dir, i + 1))"
   ]
  },
  {
   "cell_type": "code",
   "execution_count": null,
   "metadata": {},
   "outputs": [],
   "source": []
  }
 ],
 "metadata": {
  "kernelspec": {
   "display_name": "Python 3",
   "language": "python",
   "name": "python3"
  },
  "language_info": {
   "codemirror_mode": {
    "name": "ipython",
    "version": 3
   },
   "file_extension": ".py",
   "mimetype": "text/x-python",
   "name": "python",
   "nbconvert_exporter": "python",
   "pygments_lexer": "ipython3",
   "version": "3.6.6"
  }
 },
 "nbformat": 4,
 "nbformat_minor": 2
}
