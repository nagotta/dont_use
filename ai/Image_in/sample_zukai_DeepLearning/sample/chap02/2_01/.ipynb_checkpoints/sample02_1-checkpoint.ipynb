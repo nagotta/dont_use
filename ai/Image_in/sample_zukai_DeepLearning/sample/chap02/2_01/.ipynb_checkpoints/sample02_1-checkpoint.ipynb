{
 "cells": [
  {
   "cell_type": "code",
   "execution_count": 1,
   "metadata": {},
   "outputs": [
    {
     "name": "stderr",
     "output_type": "stream",
     "text": [
      "Using TensorFlow backend.\n"
     ]
    }
   ],
   "source": [
    "from keras.models import Sequential\n",
    "from keras.layers import Dense\n",
    "from keras.optimizers import SGD\n",
    "import numpy as np\n",
    "\n",
    "\n",
    "# 訓練データ\n",
    "train = np.array([[0, 0],  # 0と1の組み合わせの行列(4データ,2列)              \n",
    "                  [0, 1],\n",
    "                  [1, 0],\n",
    "                  [1, 1]])\n",
    "label = np.array([[0],     # 正解ラベル(4データ,1列)\n",
    "                  [1],\n",
    "                  [1],\n",
    "                  [0]])"
   ]
  },
  {
   "cell_type": "code",
   "execution_count": 2,
   "metadata": {},
   "outputs": [
    {
     "name": "stdout",
     "output_type": "stream",
     "text": [
      "_________________________________________________________________\n",
      "Layer (type)                 Output Shape              Param #   \n",
      "=================================================================\n",
      "dense_1 (Dense)              (None, 3)                 9         \n",
      "_________________________________________________________________\n",
      "dense_2 (Dense)              (None, 1)                 4         \n",
      "=================================================================\n",
      "Total params: 13\n",
      "Trainable params: 13\n",
      "Non-trainable params: 0\n",
      "_________________________________________________________________\n"
     ]
    }
   ],
   "source": [
    "# Sequentialオブジェクトを生成\n",
    "model = Sequential()\n",
    "\n",
    "# （第1層）隠れ層\n",
    "model.add(\n",
    "    Dense(units=3,               # 隠れ層のニューロン数は3\n",
    "          input_dim=2,           # 入力層のニューロン数は2\n",
    "          activation='sigmoid')) # 活性化関数はシグモイド\n",
    "\n",
    "# （第2層）出力層\n",
    "model.add(\n",
    "    Dense(units=1,               # 出力層のニューロン数は1\n",
    "          activation='sigmoid')) # 活性化関数はシグモイド\n",
    "\n",
    "model.compile(\n",
    "    loss='binary_crossentropy', # 誤差関数にバイナリ用のクロスエントロピーを指定\n",
    "    optimizer=SGD(lr=0.1),      # 勾配降下法を指定\n",
    ")\n",
    "\n",
    " # ニューラルネットワークのサマリー（概要）を出力\n",
    "model.summary()"
   ]
  },
  {
   "cell_type": "code",
   "execution_count": 3,
   "metadata": {},
   "outputs": [],
   "source": [
    "history = model.fit(\n",
    "    train,        # 訓練データ\n",
    "    label,        # 正解ラベル\n",
    "    epochs=3000,  # 学習回数\n",
    "    batch_size=4, # ミニバッチのサイズ（今回はすべて使用）\n",
    "    verbose=0,    # 学習の進捗状況を出力しない\n",
    ")"
   ]
  },
  {
   "cell_type": "code",
   "execution_count": 4,
   "metadata": {},
   "outputs": [
    {
     "name": "stdout",
     "output_type": "stream",
     "text": [
      "Output:\n",
      "[[0]\n",
      " [1]\n",
      " [1]\n",
      " [0]]\n",
      "Output Probability:\n",
      "[[0.1468667 ]\n",
      " [0.77695554]\n",
      " [0.76000375]\n",
      " [0.33453584]]\n"
     ]
    }
   ],
   "source": [
    "# predict_classes()で出力のみを行う\n",
    "# 0.5を閾値として0または1を取得\n",
    "classes = model.predict_classes(train, batch_size=4)\n",
    "# 出力された値そのものを取得\n",
    "prob = model.predict_proba(train, batch_size=4)\n",
    "\n",
    "print('Output:')\n",
    "print(classes)\n",
    "print('Output Probability:')\n",
    "print(prob)"
   ]
  },
  {
   "cell_type": "code",
   "execution_count": null,
   "metadata": {},
   "outputs": [],
   "source": []
  }
 ],
 "metadata": {
  "kernelspec": {
   "display_name": "Python 3",
   "language": "python",
   "name": "python3"
  },
  "language_info": {
   "codemirror_mode": {
    "name": "ipython",
    "version": 3
   },
   "file_extension": ".py",
   "mimetype": "text/x-python",
   "name": "python",
   "nbconvert_exporter": "python",
   "pygments_lexer": "ipython3",
   "version": "3.6.7"
  }
 },
 "nbformat": 4,
 "nbformat_minor": 2
}
