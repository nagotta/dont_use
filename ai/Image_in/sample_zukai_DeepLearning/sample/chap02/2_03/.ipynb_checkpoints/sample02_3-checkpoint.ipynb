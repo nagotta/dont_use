{
 "cells": [
  {
   "cell_type": "code",
   "execution_count": 1,
   "metadata": {},
   "outputs": [
    {
     "name": "stderr",
     "output_type": "stream",
     "text": [
      "Using TensorFlow backend.\n"
     ]
    }
   ],
   "source": [
    "# MNISTデータセットをインポート\n",
    "from keras.datasets import mnist\n",
    "# MNISTデータセットの読み込み\n",
    "(x_trains, y_trains), (x_tests, y_tests) = mnist.load_data()"
   ]
  },
  {
   "cell_type": "code",
   "execution_count": 2,
   "metadata": {},
   "outputs": [
    {
     "name": "stdout",
     "output_type": "stream",
     "text": [
      "(60000, 28, 28)\n",
      "(60000,)\n",
      "(10000, 28, 28)\n",
      "(10000,)\n"
     ]
    }
   ],
   "source": [
    "print(x_trains.shape)  # (60000, 28, 28) 訓練データ用の画像が60000\n",
    "print(y_trains.shape)  # 出力：(60000,) 訓練データの正解ラベルが60000\n",
    "print(x_tests.shape)   # 出力：(10000, 28, 28) テスト用の画像が10000\n",
    "print(y_tests.shape)   # 出力：(10000,) テスト用の正解ラベルが10000"
   ]
  },
  {
   "cell_type": "code",
   "execution_count": 3,
   "metadata": {},
   "outputs": [
    {
     "name": "stdout",
     "output_type": "stream",
     "text": [
      "[5 0 4 ... 5 6 8]\n"
     ]
    }
   ],
   "source": [
    "print(y_trains)  # 出力：[5 0 4 ..., 5 6 8]"
   ]
  },
  {
   "cell_type": "code",
   "execution_count": 4,
   "metadata": {},
   "outputs": [],
   "source": [
    "# keras.utilsからnp_utilsをインポート\n",
    "from keras.utils import np_utils\n",
    "\n",
    "# 正解ラベルのクラスの数\n",
    "classes = 10\n",
    "\n",
    "# 訓練データ\n",
    "# 60000x28x28の3次元配列を60000×784の2次元配列に変換\n",
    "x_trains = x_trains.reshape(60000, 784)\n",
    "# データを255で割って0から1.0の範囲に変換\n",
    "x_trains = x_trains / 255\n",
    "# 正解ラベルの数\n",
    "classes = 10\n",
    "\n",
    "# 正解ラベルをワンホット表現に変換\n",
    "y_trains = np_utils.to_categorical(y_trains, classes)\n",
    "\n",
    "# テストデータ\n",
    "# 10000x28x28の3次元配列を10000×784の2次元配列に変換\n",
    "x_tests = x_tests.reshape(10000, 784)\n",
    "# データを255で割って0から1.0の範囲に変換\n",
    "x_tests = x_tests / 255\n",
    "# 正解ラベルをワンホット表現変換\n",
    "y_tests = np_utils.to_categorical(y_tests, classes)"
   ]
  },
  {
   "cell_type": "code",
   "execution_count": 5,
   "metadata": {},
   "outputs": [
    {
     "name": "stdout",
     "output_type": "stream",
     "text": [
      "_________________________________________________________________\n",
      "Layer (type)                 Output Shape              Param #   \n",
      "=================================================================\n",
      "dense_1 (Dense)              (None, 200)               157000    \n",
      "_________________________________________________________________\n",
      "dense_2 (Dense)              (None, 10)                2010      \n",
      "=================================================================\n",
      "Total params: 159,010\n",
      "Trainable params: 159,010\n",
      "Non-trainable params: 0\n",
      "_________________________________________________________________\n"
     ]
    }
   ],
   "source": [
    "# keras.modelsからSequentialをインポート\n",
    "from keras.models import Sequential\n",
    "# keras.layersからDense、Activationをインポート\n",
    "from keras.layers import Dense, Activation\n",
    "# keras.optimizersからAdamをインポート\n",
    "from keras.optimizers import Adam\n",
    "\n",
    "model = Sequential()                 # Sequentialのインスタンス化\n",
    "model.add(Dense(200,                 # 隠れ層のニューロン数は200\n",
    "                input_dim=784,       # 入力層のニューロン数は784\n",
    "                activation='sigmoid' # 活性化関数はシグモイド\n",
    "               ))\n",
    "model.add(Dense(10,                  # 出力層のニューロン数は10\n",
    "                activation='softmax' # 活性化関数はソフトマックス\n",
    "               ))\n",
    "model.compile(\n",
    "    loss='categorical_crossentropy', # 損失の基準は交差エントロピー誤差\n",
    "    optimizer=Adam(),                # 学習方法をAdamにする\n",
    "    metrics=['accuracy']             # 学習評価として正解率を指定\n",
    "    )\n",
    "model.summary() # ニューラルネットワークのサマリー（概要）を出力"
   ]
  },
  {
   "cell_type": "code",
   "execution_count": 6,
   "metadata": {},
   "outputs": [
    {
     "name": "stdout",
     "output_type": "stream",
     "text": [
      "Train on 60000 samples, validate on 10000 samples\n",
      "Epoch 1/5\n",
      "60000/60000 [==============================] - 7s 116us/step - loss: 0.4965 - acc: 0.8757 - val_loss: 0.2749 - val_acc: 0.9240\n",
      "Epoch 2/5\n",
      "60000/60000 [==============================] - 6s 105us/step - loss: 0.2457 - acc: 0.9302 - val_loss: 0.2102 - val_acc: 0.9400\n",
      "Epoch 3/5\n",
      "60000/60000 [==============================] - 6s 106us/step - loss: 0.1910 - acc: 0.9453 - val_loss: 0.1735 - val_acc: 0.9492\n",
      "Epoch 4/5\n",
      "60000/60000 [==============================] - 6s 101us/step - loss: 0.1552 - acc: 0.9551 - val_loss: 0.1447 - val_acc: 0.9574\n",
      "Epoch 5/5\n",
      "60000/60000 [==============================] - 6s 101us/step - loss: 0.1295 - acc: 0.9632 - val_loss: 0.1235 - val_acc: 0.9627\n"
     ]
    }
   ],
   "source": [
    "# 学習を行って結果を出力\n",
    "history = model.fit(x_trains,            # 訓練データ\n",
    "                    y_trains,            # 正解ラベル\n",
    "                    epochs=5,            # 学習を繰り返す回数\n",
    "                    batch_size=100,      # 勾配計算に用いるミニバッチの数\n",
    "                    verbose=1,           # 学習の進捗状況を出力する\n",
    "                    validation_data=(\n",
    "                        x_tests, y_tests # テストデータの指定\n",
    "                    ))"
   ]
  },
  {
   "cell_type": "code",
   "execution_count": null,
   "metadata": {},
   "outputs": [],
   "source": []
  }
 ],
 "metadata": {
  "kernelspec": {
   "display_name": "Python 3",
   "language": "python",
   "name": "python3"
  },
  "language_info": {
   "codemirror_mode": {
    "name": "ipython",
    "version": 3
   },
   "file_extension": ".py",
   "mimetype": "text/x-python",
   "name": "python",
   "nbconvert_exporter": "python",
   "pygments_lexer": "ipython3",
   "version": "3.6.6"
  }
 },
 "nbformat": 4,
 "nbformat_minor": 2
}
