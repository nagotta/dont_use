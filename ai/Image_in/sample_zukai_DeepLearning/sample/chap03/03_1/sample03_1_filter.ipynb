{
 "cells": [
  {
   "cell_type": "code",
   "execution_count": 1,
   "metadata": {},
   "outputs": [
    {
     "name": "stderr",
     "output_type": "stream",
     "text": [
      "Using TensorFlow backend.\n"
     ]
    }
   ],
   "source": [
    "# データの用意\n",
    "\n",
    "# keras.utilsからnp_utilsをインポート\n",
    "from keras.utils import np_utils\n",
    "# MNISTデータセットをインポート\n",
    "from keras.datasets import mnist\n",
    "# NumPyをインポートしておく\n",
    "import numpy as np\n",
    "\n",
    "# MNISTデータセットの読み込み\n",
    "(x_trains, y_trains), (x_tests, y_tests) = mnist.load_data()\n",
    "\n",
    "# 訓練データ\n",
    "# 60000x28x28の3次元配列を60000×28×28×1の4次元配列に変換\n",
    "x_trains = x_trains.reshape(60000, 28, 28, 1)\n",
    "# 訓練データをfloat32(浮動小数点数)型に変換\n",
    "x_trains = x_trains.astype('float32')\n",
    "# データを255で割って0から1.0の範囲に変換\n",
    "x_trains /= 255"
   ]
  },
  {
   "cell_type": "code",
   "execution_count": 2,
   "metadata": {},
   "outputs": [],
   "source": [
    "# フィルターの適用\n",
    "# フィルターを適用する画像のインデックス\n",
    "img_id = 42\n",
    "# 縦方向のエッジを検出するフィルター\n",
    "vertical_edge_fil = np.array([[-2, 1, 1],\n",
    "                              [-2, 1, 1], \n",
    "                              [-2, 1, 1]],\n",
    "                             dtype=ﬂoat)\n",
    "# 横方向のエッジを検出するフィルター\n",
    "horizontal_edge_fil = np.array([[1, 1, 1], \n",
    "                                [1, 1, 1],\n",
    "                                [-2, -2, -2]],\n",
    "                               dtype=ﬂoat)\n",
    "# 画像のピクセル値を取得\n",
    "img_x = x_trains[img_id, :, :, 0]\n",
    "img_height = 28 # 画像の縦サイズ\n",
    "img_width = 28  # 画像の横サイズ\n",
    "# 画像データを28×28の行列に変換\n",
    "img_x = img_x.reshape(img_height, img_width)\n",
    "# 縦エッジのフィルター適用後の値を代入する行列を用意\n",
    "vertical_edge = np.zeros_like(img_x)\n",
    "# 横エッジのィルター適用後の値を代入する行列を用意\n",
    "horizontal_edge = np.zeros_like(img_x)\n",
    "\n",
    "# 3×3のフィルターを適用\n",
    "for h in range(img_height - 3):\n",
    "    for w in range(img_width - 3):\n",
    "        # フィルターを適用する領域を取得\n",
    "        img_region = img_x[h:h + 3, w:w + 3]\n",
    "        # 縦エッジのフィルターを適用\n",
    "        vertical_edge[h + 1, w + 1] = np.dot(\n",
    "            # 画像のピクセル値を1次元の配列に変換\n",
    "            img_region.reshape(-1),\n",
    "            # 縦エッジのフィルターを1次元の配列に変換\n",
    "            vertical_edge_fil.reshape(-1)\n",
    "        )\n",
    "        # 横エッジのフィルターを適用\n",
    "        horizontal_edge[h + 1, w + 1] = np.dot(\n",
    "            # 画像のピクセル値を1次元の配列に変換\n",
    "            img_region.reshape(-1),\n",
    "            # 横エッジのフィルターを1次元の配列に変換\n",
    "            horizontal_edge_fil.reshape(-1)\n",
    "        )"
   ]
  },
  {
   "cell_type": "code",
   "execution_count": 3,
   "metadata": {},
   "outputs": [
    {
     "data": {
      "image/png": "[encoded data removed]",
      "text/plain": [
       "<Figure size 576x576 with 3 Axes>"
      ]
     },
     "metadata": {},
     "output_type": "display_data"
    }
   ],
   "source": [
    "%matplotlib inline\n",
    "import matplotlib.pyplot as plt\n",
    "\n",
    "# フィルター適用前と適用後の画像を表示\n",
    "\n",
    "# プロットエリアのサイズを設定\n",
    "plt.ﬁgure(ﬁgsize=(8, 8))\n",
    "# プロット図を縮小して図の間のスペースを空ける\n",
    "plt.subplots_adjust(wspace=0.2)\n",
    "plt.gray()\n",
    "\n",
    "# 2×2のグリッドの上段左に元の画像をプロット\n",
    "plt.subplot(2, 2, 1)\n",
    "# 色相を反転させてプロットする\n",
    "plt.pcolor(1 - img_x)\n",
    "plt.xlim(-1, 29) # x軸を-1~29の範囲\n",
    "plt.ylim(29, -1) # y軸を29~-1の範囲\n",
    "\n",
    "# 2×2のグリッドの下段左に縦エッジ適用後をプロット\n",
    "plt.subplot(2, 2, 3)\n",
    "# 色相を反転させてプロットする\n",
    "plt.pcolor(-vertical_edge)\n",
    "plt.xlim(-1, 29)\n",
    "plt.ylim(29, -1)\n",
    "\n",
    "# 2×2のグリッドの下段右に横エッジ適用後をプロット\n",
    "plt.subplot(2, 2, 4)\n",
    "# 色相を反転させてプロットする\n",
    "plt.pcolor(-horizontal_edge)\n",
    "plt.xlim(-1, 29)\n",
    "plt.ylim(29, -1)\n",
    "plt.show()"
   ]
  },
  {
   "cell_type": "code",
   "execution_count": null,
   "metadata": {},
   "outputs": [],
   "source": []
  }
 ],
 "metadata": {
  "kernelspec": {
   "display_name": "Python 3",
   "language": "python",
   "name": "python3"
  },
  "language_info": {
   "codemirror_mode": {
    "name": "ipython",
    "version": 3
   },
   "file_extension": ".py",
   "mimetype": "text/x-python",
   "name": "python",
   "nbconvert_exporter": "python",
   "pygments_lexer": "ipython3",
   "version": "3.6.7"
  }
 },
 "nbformat": 4,
 "nbformat_minor": 2
}
