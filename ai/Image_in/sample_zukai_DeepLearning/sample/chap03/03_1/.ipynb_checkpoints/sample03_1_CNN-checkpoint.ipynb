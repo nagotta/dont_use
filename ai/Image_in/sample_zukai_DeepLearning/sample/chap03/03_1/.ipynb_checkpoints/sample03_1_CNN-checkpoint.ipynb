{
 "cells": [
  {
   "cell_type": "code",
   "execution_count": 1,
   "metadata": {
    "scrolled": true
   },
   "outputs": [
    {
     "name": "stderr",
     "output_type": "stream",
     "text": [
      "Using TensorFlow backend.\n"
     ]
    }
   ],
   "source": [
    "# keras.utilsからnp_utilsをインポート\n",
    "from keras.utils import np_utils\n",
    "# MNISTデータセットをインポート\n",
    "from keras.datasets import mnist\n",
    "# NumPyをインポート\n",
    "import numpy as np\n",
    "\n",
    "# MNISTデータセットの読み込み\n",
    "(x_trains, y_trains), (x_tests, y_tests) = mnist.load_data()\n",
    "\n",
    "# 訓練データ\n",
    "# 60000x28x28の3次元配列を60000×28×28×1の4次元配列に変換\n",
    "x_trains = x_trains.reshape(60000, 28, 28, 1)\n",
    "x_trains = x_trains.astype('float32') # float32型に変換\n",
    "x_trains /= 255                       # 0から1.0の範囲に変換\n",
    "correct = 10                          # 正解ラベルの数\n",
    "# 正解ラベルを1-of-K符号化法で変換\n",
    "y_trains = np_utils.to_categorical(y_trains, correct)\n",
    "\n",
    "# テストデータ\n",
    "# 10000x28x28の3次元配列を10000×28×28×1の4次元配列に変換\n",
    "x_tests = x_tests.reshape(10000, 28, 28, 1)\n",
    "x_tests = x_tests.astype('float32')   # float32型に変換\n",
    "x_tests /= 255                        # 0から1.0の範囲に変換\n",
    "# 正解ラベルをワンホット表現に変換\n",
    "y_tests = np_utils.to_categorical(y_tests, correct)"
   ]
  },
  {
   "cell_type": "code",
   "execution_count": 2,
   "metadata": {},
   "outputs": [
    {
     "name": "stdout",
     "output_type": "stream",
     "text": [
      "_________________________________________________________________\n",
      "Layer (type)                 Output Shape              Param #   \n",
      "=================================================================\n",
      "conv2d_1 (Conv2D)            (None, 28, 28, 10)        100       \n",
      "_________________________________________________________________\n",
      "flatten_1 (Flatten)          (None, 7840)              0         \n",
      "_________________________________________________________________\n",
      "dense_1 (Dense)              (None, 10)                78410     \n",
      "=================================================================\n",
      "Total params: 78,510\n",
      "Trainable params: 78,510\n",
      "Non-trainable params: 0\n",
      "_________________________________________________________________\n"
     ]
    }
   ],
   "source": [
    "# 畳み込みニューラルネットワーク\n",
    "\n",
    "# keras.modelsからSequentialをインポート\n",
    "from keras.models import Sequential\n",
    "# keras.layersからConv2D,MaxPooling2Dをインポート\n",
    "from keras.layers import Conv2D, MaxPooling2D\n",
    "# keras.layersからDense,Activation,Dropout,Flatten,Denseをインポート\n",
    "from keras.layers import Activation, Dropout, Flatten, Dense\n",
    "# keras.optimizersからAdamをインポート\n",
    "from keras.optimizers import Adam\n",
    "\n",
    "model = Sequential()                 # Sequentialオブジェクトの生成\n",
    "# 畳み込み層の設定\n",
    "model.add(\n",
    "    Conv2D(filters=10,               # フィルターの数は10\n",
    "           kernel_size=(3, 3),       # 3×3のフィルターを使用\n",
    "           padding='same',           # ゼロパディングを行う\n",
    "           input_shape=(28, 28, 1),  # 入力データの形状                     \n",
    "           activation='relu'         # 活性化関数はReLU\n",
    "           ))\n",
    "\n",
    "# (28, 28)から(784)に変換する\n",
    "model.add(Flatten())\n",
    "# 出力層の設定\n",
    "model.add(Dense(10,                  # 出力層のニューロン数は10\n",
    "                activation='softmax' # 活性化関数はsoftmax\n",
    "               ))\n",
    "\n",
    "# オブジェクトのコンパイル\n",
    "model.compile(\n",
    "    loss='categorical_crossentropy', # 損失の基準は交差エントロピー誤差\n",
    "    optimizer=Adam(),                # 最適化アルゴリズムはAdam\n",
    "    metrics=['accuracy'])            # 学習評価として正解率を指定\n",
    "\n",
    "model.summary()                      # サマリーを表示"
   ]
  },
  {
   "cell_type": "code",
   "execution_count": 3,
   "metadata": {},
   "outputs": [
    {
     "name": "stdout",
     "output_type": "stream",
     "text": [
      "Train on 60000 samples, validate on 10000 samples\n",
      "Epoch 1/10\n",
      "60000/60000 [==============================] - 12s 192us/step - loss: 0.3287 - acc: 0.9129 - val_loss: 0.1363 - val_acc: 0.9616\n",
      "Epoch 2/10\n",
      "60000/60000 [==============================] - 11s 185us/step - loss: 0.1121 - acc: 0.9692 - val_loss: 0.0893 - val_acc: 0.9738\n",
      "Epoch 3/10\n",
      "60000/60000 [==============================] - 11s 180us/step - loss: 0.0786 - acc: 0.9781 - val_loss: 0.0725 - val_acc: 0.9776\n",
      "Epoch 4/10\n",
      "60000/60000 [==============================] - 11s 184us/step - loss: 0.0639 - acc: 0.9814 - val_loss: 0.0657 - val_acc: 0.9788\n",
      "Epoch 5/10\n",
      "60000/60000 [==============================] - 11s 186us/step - loss: 0.0534 - acc: 0.9846 - val_loss: 0.0712 - val_acc: 0.9774\n",
      "Epoch 6/10\n",
      "60000/60000 [==============================] - 11s 181us/step - loss: 0.0461 - acc: 0.9864 - val_loss: 0.0618 - val_acc: 0.9802\n",
      "Epoch 7/10\n",
      "60000/60000 [==============================] - 11s 185us/step - loss: 0.0410 - acc: 0.9881 - val_loss: 0.0682 - val_acc: 0.9782\n",
      "Epoch 8/10\n",
      "60000/60000 [==============================] - 11s 184us/step - loss: 0.0353 - acc: 0.9900 - val_loss: 0.0679 - val_acc: 0.9795\n",
      "Epoch 9/10\n",
      "60000/60000 [==============================] - 11s 182us/step - loss: 0.0317 - acc: 0.9906 - val_loss: 0.0625 - val_acc: 0.9802\n",
      "Epoch 10/10\n",
      "60000/60000 [==============================] - 11s 184us/step - loss: 0.0274 - acc: 0.9922 - val_loss: 0.0665 - val_acc: 0.9804\n"
     ]
    }
   ],
   "source": [
    "# 学習を行って結果を出力\n",
    "history = model.fit(\n",
    "    x_trains,         # 訓練データ\n",
    "    y_trains,         # 正解ラベル\n",
    "    epochs=10,        # 学習を繰り返す回数\n",
    "    batch_size=100,   # 勾配計算に用いるミニバッチの数\n",
    "    verbose=1,        # 学習の進捗状況を出力する\n",
    "    validation_data=(\n",
    "    x_tests, y_tests  # テストデータの指定\n",
    "    ))"
   ]
  },
  {
   "cell_type": "code",
   "execution_count": 4,
   "metadata": {},
   "outputs": [
    {
     "data": {
      "image/png": "[encoded data removed]",
      "text/plain": [
       "<Figure size 1080x432 with 2 Axes>"
      ]
     },
     "metadata": {},
     "output_type": "display_data"
    }
   ],
   "source": [
    "%matplotlib inline\n",
    "import matplotlib.pyplot as plt\n",
    "\n",
    "# プロット図のサイズを設定\n",
    "plt.ﬁgure(ﬁgsize=(15, 6))\n",
    "# プロット図を縮小して図の間のスペースを空ける\n",
    "plt.subplots_adjust(wspace=0.2)\n",
    "\n",
    "# 1×2のグリッドの左(1,2,1)の領域にプロット\n",
    "plt.subplot(1, 2, 1)\n",
    "# 訓練データの損失(誤り率)をプロット\n",
    "plt.plot(history.history['loss'],\n",
    "         label='training',\n",
    "         color='black')\n",
    "# テストデータの損失(誤り率)をプロット\n",
    "plt.plot(history.history['val_loss'],\n",
    "         label='test',\n",
    "         color='red')\n",
    "plt.ylim(0, 1)       # y軸の範囲\n",
    "plt.legend()         # 凡例を表示\n",
    "plt.grid()           # グリッド表示\n",
    "plt.xlabel('epoch')  # x軸ラベル\n",
    "plt.ylabel('loss')   # y軸ラベル\n",
    "\n",
    "# 1×2のグリッドの右(1,2,21)の領域にプロット\n",
    "plt.subplot(1, 2, 2)\n",
    "# 訓練データの正解率をプロット\n",
    "plt.plot(history.history['acc'],\n",
    "         label='training',\n",
    "         color='black')\n",
    "# テストデータの正解率をプロット\n",
    "plt.plot(history.history['val_acc'],\n",
    "         label='test',\n",
    "         color='red')\n",
    "plt.ylim(0.5, 1)     # y軸の範囲\n",
    "plt.legend()         # 凡例を表示\n",
    "plt.grid()           # グリッド表示\n",
    "plt.xlabel('epoch')  # x軸ラベル\n",
    "plt.ylabel('acc')    # y軸ラベル\n",
    "plt.show()"
   ]
  },
  {
   "cell_type": "code",
   "execution_count": null,
   "metadata": {},
   "outputs": [],
   "source": []
  }
 ],
 "metadata": {
  "kernelspec": {
   "display_name": "Python 3",
   "language": "python",
   "name": "python3"
  },
  "language_info": {
   "codemirror_mode": {
    "name": "ipython",
    "version": 3
   },
   "file_extension": ".py",
   "mimetype": "text/x-python",
   "name": "python",
   "nbconvert_exporter": "python",
   "pygments_lexer": "ipython3",
   "version": "3.6.6"
  }
 },
 "nbformat": 4,
 "nbformat_minor": 2
}
