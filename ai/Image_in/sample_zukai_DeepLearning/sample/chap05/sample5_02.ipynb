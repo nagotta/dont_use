{
 "cells": [
  {
   "cell_type": "code",
   "execution_count": 1,
   "metadata": {},
   "outputs": [
    {
     "name": "stderr",
     "output_type": "stream",
     "text": [
      "Using TensorFlow backend.\n"
     ]
    },
    {
     "name": "stdout",
     "output_type": "stream",
     "text": [
      "(60000, 28, 28)\n",
      "(10000, 28, 28)\n"
     ]
    }
   ],
   "source": [
    "from keras.utils import np_utils      # keras.utilsからnp_utilsをインポート\n",
    "from keras.datasets import mnist      # MNISTデータセットをインポート\n",
    "\n",
    "# MNISTデータセットの読み込み\n",
    "(x_trains, y_trains), (x_tests, y_tests) = mnist.load_data()\n",
    "\n",
    "# 訓練データ\n",
    "x_trains = x_trains.astype('float32') # float32型に変換\n",
    "x_trains /= 255                       # 0から1.0の範囲に変換\n",
    "# 正解ラベルをワンホット表現に変換\n",
    "correct = 10                          # 正解ラベルの数\n",
    "y_trains = np_utils.to_categorical(y_trains, correct)\n",
    "\n",
    "# テストデータ\n",
    "x_tests = x_tests.astype('float32')   # float32型に変換\n",
    "x_tests /= 255                        # 0から1.0の範囲に変換\n",
    "# 正解ラベルをワンホット表現に変換\n",
    "y_tests = np_utils.to_categorical(y_tests, correct)\n",
    "\n",
    "print(x_trains.shape)                 # 訓練データの形状を出力\n",
    "print(x_tests.shape)                  # テストデータの形状を出力"
   ]
  },
  {
   "cell_type": "code",
   "execution_count": 2,
   "metadata": {
    "scrolled": true
   },
   "outputs": [
    {
     "name": "stdout",
     "output_type": "stream",
     "text": [
      "_________________________________________________________________\n",
      "Layer (type)                 Output Shape              Param #   \n",
      "=================================================================\n",
      "lstm_1 (LSTM)                (None, 28, 128)           80384     \n",
      "_________________________________________________________________\n",
      "lstm_2 (LSTM)                (None, 28, 128)           131584    \n",
      "_________________________________________________________________\n",
      "lstm_3 (LSTM)                (None, 128)               131584    \n",
      "_________________________________________________________________\n",
      "dense_1 (Dense)              (None, 10)                1290      \n",
      "=================================================================\n",
      "Total params: 344,842\n",
      "Trainable params: 344,842\n",
      "Non-trainable params: 0\n",
      "_________________________________________________________________\n"
     ]
    }
   ],
   "source": [
    "# RNNの構築\n",
    "from keras.models import Sequential\n",
    "from keras.layers import InputLayer, Dense\n",
    "from keras.layers.recurrent import LSTM\n",
    "from keras import optimizers,regularizers\n",
    "\n",
    "# Sequentialオブジェクトを生成\n",
    "model = Sequential()\n",
    "\n",
    "## 入力層\n",
    "# 入力データの形状は(28, 28)\n",
    "model.add(\n",
    "    InputLayer(input_shape=(28,28))\n",
    "    )\n",
    "\n",
    "## 中間層\n",
    "# LSTMブロック（ユニット数＝128）\n",
    "weight_decay = 1e-4 # ハイパーパラメーター\n",
    "model.add(LSTM(units=128, dropout=0.25, return_sequences=True))\n",
    "model.add(LSTM(units=128, dropout=0.25, return_sequences=True))\n",
    "model.add(LSTM(units=128, dropout=0.25, return_sequences=False,\n",
    "               kernel_regularizer=regularizers.l2(weight_decay)) # 正則化\n",
    ")\n",
    "\n",
    "## 出力層\n",
    "model.add(\n",
    "    Dense(units=10,                  # 出力層のニューロン数は10\n",
    "          activation='softmax')      # 活性化はシグモイド関数\n",
    "    )\n",
    "\n",
    "# Squentialオブジェクをコンパイル\n",
    "model.compile(\n",
    "    loss='categorical_crossentropy', # 誤差関数はクロスエントロピー\n",
    "    optimizer=optimizers.Adam(),     # Adamオプティマイザー\n",
    "    metrics=['accuracy']             # 学習評価として正解率を指定\n",
    "    )\n",
    "\n",
    "model.summary()                      # RNNのサマリ（概要）を出力"
   ]
  },
  {
   "cell_type": "code",
   "execution_count": 3,
   "metadata": {},
   "outputs": [
    {
     "name": "stdout",
     "output_type": "stream",
     "text": [
      "Train on 60000 samples, validate on 10000 samples\n",
      "Epoch 1/10\n",
      "60000/60000 [==============================] - 119s 2ms/step - loss: 0.6226 - acc: 0.7953 - val_loss: 0.1570 - val_acc: 0.9592\n",
      "Epoch 2/10\n",
      "60000/60000 [==============================] - 113s 2ms/step - loss: 0.1842 - acc: 0.9475 - val_loss: 0.1014 - val_acc: 0.9723\n",
      "Epoch 3/10\n",
      "60000/60000 [==============================] - 112s 2ms/step - loss: 0.1225 - acc: 0.9668 - val_loss: 0.0782 - val_acc: 0.9801\n",
      "Epoch 4/10\n",
      "60000/60000 [==============================] - 110s 2ms/step - loss: 0.0981 - acc: 0.9741 - val_loss: 0.0685 - val_acc: 0.9832\n",
      "Epoch 5/10\n",
      "60000/60000 [==============================] - 110s 2ms/step - loss: 0.0854 - acc: 0.9773 - val_loss: 0.0594 - val_acc: 0.9855\n",
      "Epoch 6/10\n",
      "60000/60000 [==============================] - 111s 2ms/step - loss: 0.0738 - acc: 0.9811 - val_loss: 0.0540 - val_acc: 0.9864\n",
      "Epoch 7/10\n",
      "60000/60000 [==============================] - 111s 2ms/step - loss: 0.0666 - acc: 0.9832 - val_loss: 0.0474 - val_acc: 0.9884\n",
      "Epoch 8/10\n",
      "60000/60000 [==============================] - 113s 2ms/step - loss: 0.0608 - acc: 0.9842 - val_loss: 0.0549 - val_acc: 0.9868\n",
      "Epoch 9/10\n",
      "60000/60000 [==============================] - 110s 2ms/step - loss: 0.0558 - acc: 0.9856 - val_loss: 0.0497 - val_acc: 0.9886\n",
      "Epoch 10/10\n",
      "60000/60000 [==============================] - 112s 2ms/step - loss: 0.0516 - acc: 0.9867 - val_loss: 0.0459 - val_acc: 0.9883\n"
     ]
    }
   ],
   "source": [
    "# 学習を開始\n",
    "history = model.fit(x_trains, y_trains, # 訓練データ、正解ラベル\n",
    "                    batch_size=100,     # ミニバッチのサイズ\n",
    "                    epochs=10,          # 学習回数\n",
    "                    verbose=1,          # 学習の進捗状況を出力する\n",
    "                    validation_data=(   # テストデータの指定\n",
    "                    x_tests, y_tests)\n",
    "                    )"
   ]
  },
  {
   "cell_type": "code",
   "execution_count": 4,
   "metadata": {},
   "outputs": [
    {
     "data": {
      "image/png": "[encoded data removed]",
      "text/plain": [
       "<Figure size 1080x432 with 2 Axes>"
      ]
     },
     "metadata": {},
     "output_type": "display_data"
    }
   ],
   "source": [
    "# 損失と正解率をグラフにする\n",
    "%matplotlib inline\n",
    "import matplotlib.pyplot as plt\n",
    "\n",
    "# プロット図のサイズを設定\n",
    "plt.ﬁgure(ﬁgsize=(15, 6))\n",
    "# プロット図を縮小して図の間のスペースを空ける\n",
    "plt.subplots_adjust(wspace=0.2)\n",
    "\n",
    "# 1×2のグリッドの左(1,2,1)の領域にプロット\n",
    "plt.subplot(1, 2, 1)\n",
    "# 訓練データの損失(誤り率)をプロット\n",
    "plt.plot(history.history['loss'],\n",
    "         label='training',\n",
    "         color='black')\n",
    "# テストデータの損失(誤り率)をプロット\n",
    "plt.plot(history.history['val_loss'],\n",
    "         label='test',\n",
    "         color='red')\n",
    "plt.ylim(0, 1)       # y軸の範囲\n",
    "plt.legend()         # 凡例を表示\n",
    "plt.grid()           # グリッド表示\n",
    "plt.xlabel('epoch')  # x軸ラベル\n",
    "plt.ylabel('loss')   # y軸ラベル\n",
    "\n",
    "# 1×2のグリッドの右(1,2,21)の領域にプロット\n",
    "plt.subplot(1, 2, 2)\n",
    "# 訓練データの正解率をプロット\n",
    "plt.plot(history.history['acc'],\n",
    "         label='training',\n",
    "         color='black')\n",
    "# テストデータの正解率をプロット\n",
    "plt.plot(history.history['val_acc'],\n",
    "         label='test',\n",
    "         color='red')\n",
    "plt.ylim(0.5, 1)     # y軸の範囲\n",
    "plt.legend()         # 凡例を表示\n",
    "plt.grid()           # グリッド表示\n",
    "plt.xlabel('epoch')  # x軸ラベル\n",
    "plt.ylabel('acc')    # y軸ラベル\n",
    "plt.show()"
   ]
  },
  {
   "cell_type": "code",
   "execution_count": null,
   "metadata": {},
   "outputs": [],
   "source": []
  }
 ],
 "metadata": {
  "kernelspec": {
   "display_name": "Python 3",
   "language": "python",
   "name": "python3"
  },
  "language_info": {
   "codemirror_mode": {
    "name": "ipython",
    "version": 3
   },
   "file_extension": ".py",
   "mimetype": "text/x-python",
   "name": "python",
   "nbconvert_exporter": "python",
   "pygments_lexer": "ipython3",
   "version": "3.6.6"
  }
 },
 "nbformat": 4,
 "nbformat_minor": 2
}
